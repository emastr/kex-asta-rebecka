{
 "cells": [
  {
   "cell_type": "code",
   "execution_count": 1,
   "metadata": {},
   "outputs": [],
   "source": [
    "import jax\n",
    "from jax import grad, vmap, jit\n",
    "import jax.numpy as jnp\n",
    "\n",
    "import matplotlib.pyplot as plt"
   ]
  },
  {
   "cell_type": "markdown",
   "metadata": {},
   "source": [
    "## Jax\n",
    "\n",
    "``jax`` är ett paket till python som erbjuder typ all funktionalitet som ``numpy`` gör, men också kan räkna ut derivator av alla funktioner som ``numpy`` har. Här är ett exempel på hur man räknar derivatan av ``x^2`` med ``jax``."
   ]
  },
  {
   "cell_type": "code",
   "execution_count": 13,
   "metadata": {},
   "outputs": [],
   "source": [
    "# Här är en funktion\n",
    "funk = lambda x: x**2\n",
    "\n",
    "# Här är dess derivata, man kan bara mata in en float\n",
    "grad_funk = grad(funk)\n",
    "\n",
    "# Här är dess derivata, fast man kan mata in en array\n",
    "v_grad_funk = vmap(grad_funk)"
   ]
  },
  {
   "cell_type": "markdown",
   "metadata": {},
   "source": [
    "Vi plottar resultatet:"
   ]
  },
  {
   "cell_type": "code",
   "execution_count": 15,
   "metadata": {},
   "outputs": [
    {
     "data": {
      "text/plain": [
       "<matplotlib.legend.Legend at 0x7f592852b1d0>"
      ]
     },
     "execution_count": 15,
     "metadata": {},
     "output_type": "execute_result"
    },
    {
     "data": {
      "image/png": "[encoded data removed]",
      "text/plain": [
       "<Figure size 640x480 with 1 Axes>"
      ]
     },
     "metadata": {},
     "output_type": "display_data"
    }
   ],
   "source": [
    "\n",
    "## Plotta funktionen och dess derivata\n",
    "x = jnp.linspace(0, 2*jnp.pi, 100)\n",
    "y = funk(x)\n",
    "dydx = v_grad_funk(x)\n",
    "\n",
    "plt.plot(x, y, label=\"f(x)=x^2\")\n",
    "plt.plot(x, dydx, label=\"f'(x)=2x\")\n",
    "plt.legend()"
   ]
  },
  {
   "cell_type": "markdown",
   "metadata": {},
   "source": [
    "Jax är typ samma som numpy, men en stor skillnad är hur man använder ```vmap```. I jax brukar man definiera funktioner först med avseende på ett endimensionellt input, till exempel ``f = lambda x: x**2``, och sedan gör ``vmap(f)`` att man kan stoppa in vektorer iställert för tal som ``x``. Nu ska vi kolla kort på optimering med jax. Om vi vill hitta ett minimum till ``f`` kan vi göra gradientstegning:"
   ]
  },
  {
   "cell_type": "code",
   "execution_count": 20,
   "metadata": {},
   "outputs": [
    {
     "name": "stdout",
     "output_type": "stream",
     "text": [
      "4.8169755e-07\n"
     ]
    }
   ],
   "source": [
    "dx = 0.01 # steglängd\n",
    "x0 = 1. # startvärde\n",
    "res = 1. # startvärde\n",
    "while res > 1e-8:\n",
    "    x1 = x0 - dx * grad_funk(x0)\n",
    "    res = abs(x1-x0)\n",
    "    x0 = x1\n",
    "    \n",
    "print(x1)"
   ]
  },
  {
   "cell_type": "markdown",
   "metadata": {},
   "source": [
    "Väldigt enkelt! Jax kan också hantera mycket svårare funktioner, till exempel om vi vill uppskatta omkretsen på en ellips:"
   ]
  },
  {
   "cell_type": "code",
   "execution_count": 25,
   "metadata": {},
   "outputs": [
    {
     "data": {
      "text/plain": [
       "(Array(3.1415873, dtype=float32, weak_type=True),\n",
       " Array(3.1415877, dtype=float32, weak_type=True))"
      ]
     },
     "execution_count": 25,
     "metadata": {},
     "output_type": "execute_result"
    }
   ],
   "source": [
    "def f(a, b):\n",
    "    # a och b är längden på ellipsernas halvaxlar\n",
    "    # Den här funktionen uppskattar ellipsens omkrets.\n",
    "    theta = jnp.linspace(0, 2*jnp.pi, 1000)\n",
    "    x = a*jnp.cos(theta)\n",
    "    y = b*jnp.sin(theta)\n",
    "    dx = jnp.diff(x)\n",
    "    dy = jnp.diff(y)\n",
    "    return jnp.sum(jnp.sqrt(dx**2 + dy**2))\n",
    "\n",
    "grad_f = grad(f, argnums=(0, 1))\n",
    "grad_f(1., 1.)"
   ]
  },
  {
   "cell_type": "markdown",
   "metadata": {},
   "source": [
    "Säg att vi vill minimera omkrets för en given area, tex. ``ab=1``. Vi kan då göra en gradientstegning:"
   ]
  },
  {
   "cell_type": "code",
   "execution_count": 32,
   "metadata": {},
   "outputs": [
    {
     "name": "stdout",
     "output_type": "stream",
     "text": [
      "1.0000006 0.9999994\n"
     ]
    }
   ],
   "source": [
    "omkr = lambda a: f(a, 1./a)  # Eliminera b genom att substituera in b = 1/a.\n",
    "grad_omkr = grad(omkr)\n",
    "\n",
    "da = 0.01 # steglängd\n",
    "a0 = 2. # startvärde\n",
    "res = 1. # startvärde\n",
    "while res > 1e-8:\n",
    "    a1 = a0 - da* grad_omkr(a0)\n",
    "    res = abs(a1-a0)\n",
    "    a0 = a1\n",
    "    \n",
    "print(a1, 1./a1)"
   ]
  },
  {
   "cell_type": "markdown",
   "metadata": {},
   "source": [
    "Mer information om JAX finns här: https://jax.readthedocs.io/en/latest/index.html"
   ]
  }
 ],
 "metadata": {
  "kernelspec": {
   "display_name": "pimlenv",
   "language": "python",
   "name": "python3"
  },
  "language_info": {
   "codemirror_mode": {
    "name": "ipython",
    "version": 3
   },
   "file_extension": ".py",
   "mimetype": "text/x-python",
   "name": "python",
   "nbconvert_exporter": "python",
   "pygments_lexer": "ipython3",
   "version": "3.11.4"
  }
 },
 "nbformat": 4,
 "nbformat_minor": 2
}
